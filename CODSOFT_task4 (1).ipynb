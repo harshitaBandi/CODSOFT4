{
  "nbformat": 4,
  "nbformat_minor": 0,
  "metadata": {
    "colab": {
      "provenance": []
    },
    "kernelspec": {
      "name": "python3",
      "display_name": "Python 3"
    },
    "language_info": {
      "name": "python"
    }
  },
  "cells": [
    {
      "cell_type": "code",
      "execution_count": null,
      "metadata": {
        "colab": {
          "base_uri": "https://localhost:8080/"
        },
        "id": "9-m0wJ6drltG",
        "outputId": "9e10d7d8-f205-48f6-e672-5febd4a60d67"
      },
      "outputs": [
        {
          "output_type": "stream",
          "name": "stdout",
          "text": [
            "Recommended movie IDs for User 1 : [0, 4, 0]\n"
          ]
        }
      ],
      "source": [
        "#Collaborative Filtering\n",
        "\n",
        "\n",
        "import numpy as np\n",
        "\n",
        "# Sample user-item matrix (user x movie)\n",
        "user_item_matrix = np.array([\n",
        "    [4, 0, 5, 0, 0],\n",
        "    [0, 0, 5, 4, 0],\n",
        "    [0, 0, 0, 0, 3],\n",
        "    [5, 4, 0, 0, 4]\n",
        "])\n",
        "\n",
        "# Define a function to calculate similarity between users\n",
        "def cosine_similarity(user1, user2):\n",
        "    dot_product = np.dot(user1, user2)\n",
        "    norm_user1 = np.linalg.norm(user1)\n",
        "    norm_user2 = np.linalg.norm(user2)\n",
        "    similarity = dot_product / (norm_user1 * norm_user2)\n",
        "    return similarity\n",
        "\n",
        "# Define a function to make recommendations based on similarity\n",
        "def recommend_movies(user_id, user_item_matrix, num_recommendations):\n",
        "    similarities = []\n",
        "    for i in range(user_item_matrix.shape[0]):\n",
        "        if i != user_id:\n",
        "            similarity = cosine_similarity(user_item_matrix[user_id], user_item_matrix[i])\n",
        "            similarities.append((i, similarity))\n",
        "    similarities.sort(key=lambda x: x[1], reverse=True)\n",
        "\n",
        "    recommendations = []\n",
        "    for i in range(num_recommendations):\n",
        "        similar_user_id, similarity = similarities[i]\n",
        "        unrated_movies = [j for j in range(user_item_matrix.shape[1]) if user_item_matrix[user_id, j] == 0 and user_item_matrix[similar_user_id, j] > 0]\n",
        "        recommendations.extend(unrated_movies)\n",
        "\n",
        "    return recommendations[:num_recommendations]\n",
        "\n",
        "# Make recommendations for a user\n",
        "user_id = 1\n",
        "num_recommendations = 3\n",
        "recommendations = recommend_movies(user_id, user_item_matrix, num_recommendations)\n",
        "print(\"Recommended movie IDs for User\", user_id, \":\", recommendations)\n"
      ]
    },
    {
      "cell_type": "code",
      "source": [
        "#Content-Based Filtering\n",
        "\n",
        "\n",
        "import pandas as pd\n",
        "from sklearn.feature_extraction.text import TfidfVectorizer\n",
        "from sklearn.metrics.pairwise import linear_kernel\n",
        "\n",
        "# Sample movie dataset with movie titles and genres\n",
        "data = {'Title': ['Movie1', 'Movie2', 'Movie3', 'Movie4'],\n",
        "        'Genres': ['Action', 'Comedy', 'Action|Drama', 'Comedy|Romance']}\n",
        "movies_df = pd.DataFrame(data)\n",
        "\n",
        "# Sample user preferences\n",
        "user_preferences = ['Action', 'Comedy']\n",
        "\n",
        "# Create TF-IDF vectors for movie genres\n",
        "tfidf_vectorizer = TfidfVectorizer()\n",
        "tfidf_matrix = tfidf_vectorizer.fit_transform(movies_df['Genres'])\n",
        "\n",
        "# Compute cosine similarity between movies and user preferences\n",
        "cosine_sim = linear_kernel(tfidf_matrix, tfidf_vectorizer.transform(user_preferences))\n",
        "\n",
        "# Get recommended movie indices\n",
        "recommended_indices = cosine_sim.argsort()[0][::-1]\n",
        "\n",
        "# Get top N recommended movies\n",
        "num_recommendations = 2\n",
        "recommended_movies = [movies_df['Title'][i] for i in recommended_indices[:num_recommendations]]\n",
        "print(\"Recommended Movies:\", recommended_movies)\n"
      ],
      "metadata": {
        "colab": {
          "base_uri": "https://localhost:8080/"
        },
        "id": "iSfbYVz2sNIA",
        "outputId": "aa45aebd-586b-4844-a7aa-8e23185261f6"
      },
      "execution_count": null,
      "outputs": [
        {
          "output_type": "stream",
          "name": "stdout",
          "text": [
            "Recommended Movies: ['Movie1', 'Movie2']\n"
          ]
        }
      ]
    }
  ]
}